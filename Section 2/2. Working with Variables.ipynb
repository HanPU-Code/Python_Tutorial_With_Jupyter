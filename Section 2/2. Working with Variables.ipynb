{
 "cells": [
  {
   "cell_type": "code",
   "execution_count": 1,
   "id": "af156669-48b0-4ba9-8476-37886f58cf05",
   "metadata": {},
   "outputs": [],
   "source": [
    "A = 10"
   ]
  },
  {
   "cell_type": "code",
   "execution_count": 2,
   "id": "e611db01-fbe3-47c9-9127-d3ba59f1373e",
   "metadata": {},
   "outputs": [],
   "source": [
    "B = 5"
   ]
  },
  {
   "cell_type": "code",
   "execution_count": 3,
   "id": "295b27c4-b3cf-4233-b671-d356f6983229",
   "metadata": {},
   "outputs": [],
   "source": [
    "#Arithmetics"
   ]
  },
  {
   "cell_type": "code",
   "execution_count": 4,
   "id": "f8915cfe-112e-4381-b1d0-8aa3f62261d9",
   "metadata": {},
   "outputs": [],
   "source": [
    "C = A + B"
   ]
  },
  {
   "cell_type": "code",
   "execution_count": 5,
   "id": "2e99ec9e-b1a5-4b4c-a1e0-a7ad30b6c354",
   "metadata": {},
   "outputs": [],
   "source": [
    "D = B / A"
   ]
  },
  {
   "cell_type": "markdown",
   "id": "37b77759-2dfc-4604-9c0f-95d576fd9619",
   "metadata": {},
   "source": [
    "---"
   ]
  },
  {
   "cell_type": "code",
   "execution_count": 6,
   "id": "e4fad141-e1d8-4b9c-bc9a-753e84b1ec30",
   "metadata": {},
   "outputs": [],
   "source": [
    "#Printing"
   ]
  },
  {
   "cell_type": "code",
   "execution_count": 7,
   "id": "89c59278-bd5f-439c-b149-52bcb7f22887",
   "metadata": {},
   "outputs": [
    {
     "data": {
      "text/plain": [
       "15"
      ]
     },
     "execution_count": 7,
     "metadata": {},
     "output_type": "execute_result"
    }
   ],
   "source": [
    "C"
   ]
  },
  {
   "cell_type": "code",
   "execution_count": 9,
   "id": "b7dc3ddb-5aed-44dd-9d1c-6c495f749f32",
   "metadata": {},
   "outputs": [
    {
     "name": "stdout",
     "output_type": "stream",
     "text": [
      "15\n"
     ]
    }
   ],
   "source": [
    "print(C) #print() is different to Python 2.7"
   ]
  },
  {
   "cell_type": "code",
   "execution_count": 11,
   "id": "6bd3abd7-9715-4289-8dc9-cbb1198045e6",
   "metadata": {},
   "outputs": [
    {
     "name": "stdout",
     "output_type": "stream",
     "text": [
      "0.5\n"
     ]
    }
   ],
   "source": [
    "print(D) #division is different to Python 2.7"
   ]
  },
  {
   "cell_type": "code",
   "execution_count": 13,
   "id": "63f91db1-e74e-4949-920c-43551c821587",
   "metadata": {},
   "outputs": [],
   "source": [
    "#Why is it better to use print() ?"
   ]
  },
  {
   "cell_type": "code",
   "execution_count": 14,
   "id": "3d4be2df-8808-41c9-9666-9ecffb1074ca",
   "metadata": {},
   "outputs": [
    {
     "data": {
      "text/plain": [
       "0.5"
      ]
     },
     "execution_count": 14,
     "metadata": {},
     "output_type": "execute_result"
    }
   ],
   "source": [
    "C\n",
    "D"
   ]
  },
  {
   "cell_type": "code",
   "execution_count": 15,
   "id": "9604b11b-4515-4dc2-85e9-d39844b305b3",
   "metadata": {},
   "outputs": [
    {
     "name": "stdout",
     "output_type": "stream",
     "text": [
      "15\n",
      "0.5\n"
     ]
    }
   ],
   "source": [
    "print(C)\n",
    "print(D)"
   ]
  },
  {
   "cell_type": "markdown",
   "id": "66c028b6-ffed-4fe3-be73-5aac221e3259",
   "metadata": {},
   "source": [
    "---"
   ]
  },
  {
   "cell_type": "code",
   "execution_count": 16,
   "id": "64958317-ebef-4cb5-8c75-2742faa7b6c2",
   "metadata": {},
   "outputs": [],
   "source": [
    "import math"
   ]
  },
  {
   "cell_type": "code",
   "execution_count": 18,
   "id": "e6ce0c58-5cbb-4d36-bcd5-36b91aad9ecb",
   "metadata": {},
   "outputs": [
    {
     "data": {
      "text/plain": [
       "3.1622776601683795"
      ]
     },
     "execution_count": 18,
     "metadata": {},
     "output_type": "execute_result"
    }
   ],
   "source": [
    "math.sqrt(A)"
   ]
  },
  {
   "cell_type": "code",
   "execution_count": 19,
   "id": "3e191f8b-8806-44bf-b916-7525b7c1e476",
   "metadata": {},
   "outputs": [
    {
     "data": {
      "text/plain": [
       "3"
      ]
     },
     "execution_count": 19,
     "metadata": {},
     "output_type": "execute_result"
    }
   ],
   "source": [
    "round(math.sqrt(A)) #반올림"
   ]
  },
  {
   "cell_type": "markdown",
   "id": "aeca2d89-c8ee-4a62-b398-103f7dd0a207",
   "metadata": {},
   "source": [
    "---"
   ]
  },
  {
   "cell_type": "code",
   "execution_count": 20,
   "id": "906d78f8-6c9b-40e9-bb74-1438bd30a622",
   "metadata": {},
   "outputs": [],
   "source": [
    "greeting = \"Hello\"\n",
    "name = \"Bob\""
   ]
  },
  {
   "cell_type": "code",
   "execution_count": 23,
   "id": "c85d0815-6254-4091-9f0f-ba755a14eb99",
   "metadata": {},
   "outputs": [],
   "source": [
    "message = greeting + \" \" + name"
   ]
  },
  {
   "cell_type": "code",
   "execution_count": 24,
   "id": "2b1bb98b-e058-415b-86b5-cc54aa53f8c4",
   "metadata": {},
   "outputs": [
    {
     "name": "stdout",
     "output_type": "stream",
     "text": [
      "Hello Bob\n"
     ]
    }
   ],
   "source": [
    "print(message)"
   ]
  },
  {
   "cell_type": "code",
   "execution_count": null,
   "id": "8260b6c1-af92-42e3-b3b9-9f2cc9ae5a61",
   "metadata": {},
   "outputs": [],
   "source": []
  }
 ],
 "metadata": {
  "kernelspec": {
   "display_name": "Python 3 (ipykernel)",
   "language": "python",
   "name": "python3"
  },
  "language_info": {
   "codemirror_mode": {
    "name": "ipython",
    "version": 3
   },
   "file_extension": ".py",
   "mimetype": "text/x-python",
   "name": "python",
   "nbconvert_exporter": "python",
   "pygments_lexer": "ipython3",
   "version": "3.11.5"
  }
 },
 "nbformat": 4,
 "nbformat_minor": 5
}
